{
 "cells": [
  {
   "cell_type": "markdown",
   "metadata": {},
   "source": [
    "# Implications from legacy device environments on the conceptional design of machine learning models in manufacturing\n",
    "\n",
    "## Combined approach\n",
    "\n",
    "This notebook contains all the preliminary models used in the OBerA project.\n",
    "It belongs to the article \"DImplications from legacy device environments on the conceptional design of machine learning models in manufacturing\" "
   ]
  },
  {
   "cell_type": "markdown",
   "metadata": {},
   "source": [
    "# Imports\n"
   ]
  },
  {
   "cell_type": "code",
   "execution_count": 6,
   "metadata": {},
   "outputs": [],
   "source": [
    "# Importing libraries\n",
    "import pandas as pd #for working with dataframes\n",
    "import numpy as np #for numerical and vector operations\n",
    "import matplotlib.pyplot as plt #for visualization\n",
    "import seaborn as sns #for visualization\n",
    "import lightgbm as lgb #for light gradient boosting machine\n",
    "import xgboost as xgb #for extreme gradient boosting \n",
    "\n",
    "\n",
    "# Metrics\n",
    "from sklearn import metrics #metrics\n",
    "from sklearn.metrics import classification_report #for F1 score and other metrics\n",
    "from sklearn.metrics import f1_score #for F1 score specifically\n",
    "from sklearn.metrics import matthews_corrcoef #for Matthews correlation coefficient (MCC)\n",
    "from sklearn.metrics import confusion_matrix #for confusion matrix\n",
    "from sklearn.metrics import roc_curve, roc_auc_score #ROC and AUC scores\n",
    "from sklearn.metrics import ConfusionMatrixDisplay #for plotting confusion matrix\n",
    "\n",
    "# Importing machine learning tools for preprocessing\n",
    "from sklearn.model_selection import train_test_split #for splitting the data into training and test sets\n",
    "from sklearn.preprocessing import StandardScaler #for feature scaling\n",
    "\n",
    "# Models\n",
    "\n",
    "from sklearn.ensemble import RandomForestClassifier #random forest classifier\n",
    "from sklearn.ensemble import ExtraTreesClassifier #extra trees classifier\n",
    "from catboost import CatBoostClassifier #cat boost classifier"
   ]
  },
  {
   "cell_type": "markdown",
   "metadata": {},
   "source": [
    "# Function definition\n",
    "\n",
    "Here we define a few functions that will be used to evaluate the models.\n"
   ]
  },
  {
   "cell_type": "markdown",
   "metadata": {},
   "source": [
    "## ROC curve function\n",
    " "
   ]
  },
  {
   "cell_type": "code",
   "execution_count": 7,
   "metadata": {},
   "outputs": [],
   "source": [
    "# Define the ROC curve function with graphical output\n",
    "\n",
    "def plot_roc_curve(model):\n",
    "\n",
    "    #setting up the parameters\n",
    "    try:\n",
    "        probs = model.predict(test_features)\n",
    "        fpr, tpr, thresholds = roc_curve(test_labels, probs)\n",
    "    except ValueError: #this is needed for Neural Network\n",
    "        probs = np.argmax(model.predict(test_features, batch_size=1, verbose=0), axis=-1)\n",
    "        fpr, tpr, thresholds = roc_curve(test_labels, probs)\n",
    "        \n",
    "    #plotting the ROC curve\n",
    "    plt.plot(fpr, tpr, color='orange', label='ROC')\n",
    "    plt.plot([0, 1], [0, 1], color='darkblue', linestyle='--')\n",
    "    plt.xlabel('False Positive Rate')\n",
    "    plt.ylabel('True Positive Rate')\n",
    "    plt.title('Receiver Operating Characteristic (ROC) Curve')\n",
    "    plt.legend()\n",
    "    plt.show()\n",
    "\n",
    "    #print AUC score\n",
    "    print(f\"AUC score: {roc_auc_score(test_labels, probs)}\")"
   ]
  },
  {
   "cell_type": "code",
   "execution_count": 8,
   "metadata": {},
   "outputs": [
    {
     "data": {
      "text/html": [
       "<div>\n",
       "<style scoped>\n",
       "    .dataframe tbody tr th:only-of-type {\n",
       "        vertical-align: middle;\n",
       "    }\n",
       "\n",
       "    .dataframe tbody tr th {\n",
       "        vertical-align: top;\n",
       "    }\n",
       "\n",
       "    .dataframe thead th {\n",
       "        text-align: right;\n",
       "    }\n",
       "</style>\n",
       "<table border=\"1\" class=\"dataframe\">\n",
       "  <thead>\n",
       "    <tr style=\"text-align: right;\">\n",
       "      <th></th>\n",
       "      <th>DateTime</th>\n",
       "      <th>ProgramStatus</th>\n",
       "      <th>ToolNumber</th>\n",
       "      <th>PocketTable</th>\n",
       "      <th>DriveStatus</th>\n",
       "      <th>DoorStatusTooling</th>\n",
       "      <th>OverrideFeed</th>\n",
       "      <th>FeedRate</th>\n",
       "      <th>SpindleSpeed</th>\n",
       "      <th>IndoorGPSx</th>\n",
       "      <th>IndoorGPSy</th>\n",
       "      <th>Phase</th>\n",
       "      <th>Phase_compressed</th>\n",
       "      <th>Production</th>\n",
       "    </tr>\n",
       "  </thead>\n",
       "  <tbody>\n",
       "    <tr>\n",
       "      <th>0</th>\n",
       "      <td>2021-12-07 07:39:24</td>\n",
       "      <td>2.0</td>\n",
       "      <td>0.0</td>\n",
       "      <td>0.0</td>\n",
       "      <td>1.0</td>\n",
       "      <td>0.0</td>\n",
       "      <td>45.0</td>\n",
       "      <td>3600.0</td>\n",
       "      <td>1999.0</td>\n",
       "      <td>-0.445</td>\n",
       "      <td>1.205</td>\n",
       "      <td>7</td>\n",
       "      <td>1</td>\n",
       "      <td>0</td>\n",
       "    </tr>\n",
       "    <tr>\n",
       "      <th>11271</th>\n",
       "      <td>2021-12-07 07:39:25</td>\n",
       "      <td>2.0</td>\n",
       "      <td>0.0</td>\n",
       "      <td>0.0</td>\n",
       "      <td>1.0</td>\n",
       "      <td>0.0</td>\n",
       "      <td>45.0</td>\n",
       "      <td>3600.0</td>\n",
       "      <td>1999.0</td>\n",
       "      <td>-0.412</td>\n",
       "      <td>1.203</td>\n",
       "      <td>7</td>\n",
       "      <td>1</td>\n",
       "      <td>0</td>\n",
       "    </tr>\n",
       "    <tr>\n",
       "      <th>1</th>\n",
       "      <td>2021-12-07 07:39:26</td>\n",
       "      <td>2.0</td>\n",
       "      <td>0.0</td>\n",
       "      <td>0.0</td>\n",
       "      <td>1.0</td>\n",
       "      <td>0.0</td>\n",
       "      <td>45.0</td>\n",
       "      <td>3600.0</td>\n",
       "      <td>1999.0</td>\n",
       "      <td>-0.327</td>\n",
       "      <td>1.221</td>\n",
       "      <td>7</td>\n",
       "      <td>1</td>\n",
       "      <td>0</td>\n",
       "    </tr>\n",
       "    <tr>\n",
       "      <th>11272</th>\n",
       "      <td>2021-12-07 07:39:27</td>\n",
       "      <td>2.0</td>\n",
       "      <td>0.0</td>\n",
       "      <td>0.0</td>\n",
       "      <td>1.0</td>\n",
       "      <td>0.0</td>\n",
       "      <td>45.0</td>\n",
       "      <td>3600.0</td>\n",
       "      <td>2000.0</td>\n",
       "      <td>-0.297</td>\n",
       "      <td>1.251</td>\n",
       "      <td>7</td>\n",
       "      <td>1</td>\n",
       "      <td>0</td>\n",
       "    </tr>\n",
       "    <tr>\n",
       "      <th>2</th>\n",
       "      <td>2021-12-07 07:39:28</td>\n",
       "      <td>2.0</td>\n",
       "      <td>0.0</td>\n",
       "      <td>0.0</td>\n",
       "      <td>1.0</td>\n",
       "      <td>0.0</td>\n",
       "      <td>45.0</td>\n",
       "      <td>3600.0</td>\n",
       "      <td>1999.0</td>\n",
       "      <td>-0.265</td>\n",
       "      <td>1.259</td>\n",
       "      <td>7</td>\n",
       "      <td>1</td>\n",
       "      <td>0</td>\n",
       "    </tr>\n",
       "  </tbody>\n",
       "</table>\n",
       "</div>"
      ],
      "text/plain": [
       "                  DateTime  ProgramStatus  ToolNumber  PocketTable  \\\n",
       "0      2021-12-07 07:39:24            2.0         0.0          0.0   \n",
       "11271  2021-12-07 07:39:25            2.0         0.0          0.0   \n",
       "1      2021-12-07 07:39:26            2.0         0.0          0.0   \n",
       "11272  2021-12-07 07:39:27            2.0         0.0          0.0   \n",
       "2      2021-12-07 07:39:28            2.0         0.0          0.0   \n",
       "\n",
       "       DriveStatus  DoorStatusTooling  OverrideFeed  FeedRate  SpindleSpeed  \\\n",
       "0              1.0                0.0          45.0    3600.0        1999.0   \n",
       "11271          1.0                0.0          45.0    3600.0        1999.0   \n",
       "1              1.0                0.0          45.0    3600.0        1999.0   \n",
       "11272          1.0                0.0          45.0    3600.0        2000.0   \n",
       "2              1.0                0.0          45.0    3600.0        1999.0   \n",
       "\n",
       "       IndoorGPSx  IndoorGPSy  Phase  Phase_compressed  Production  \n",
       "0          -0.445       1.205      7                 1           0  \n",
       "11271      -0.412       1.203      7                 1           0  \n",
       "1          -0.327       1.221      7                 1           0  \n",
       "11272      -0.297       1.251      7                 1           0  \n",
       "2          -0.265       1.259      7                 1           0  "
      ]
     },
     "execution_count": 8,
     "metadata": {},
     "output_type": "execute_result"
    }
   ],
   "source": [
    "# Import data from csv\n",
    "data = pd.read_csv(\"Data_Detecting_Changeover.csv\", sep= ',',header=0, index_col=0)\n",
    "data.head()"
   ]
  },
  {
   "cell_type": "code",
   "execution_count": 9,
   "metadata": {},
   "outputs": [
    {
     "name": "stdout",
     "output_type": "stream",
     "text": [
      "       ProgramStatus    ToolNumber   PocketTable   DriveStatus  \\\n",
      "count   21940.000000  21940.000000  21940.000000  21940.000000   \n",
      "mean        1.439107     11.023473      4.698952      0.541796   \n",
      "std         1.634662      8.434492      7.231461      0.498261   \n",
      "min         0.000000      0.000000      0.000000      0.000000   \n",
      "25%         0.000000      8.000000      0.000000      0.000000   \n",
      "50%         2.000000      8.000000      1.000000      1.000000   \n",
      "75%         2.000000     19.000000      8.000000      1.000000   \n",
      "max         6.000000     32.000000     30.000000      1.000000   \n",
      "\n",
      "       DoorStatusTooling  OverrideFeed      FeedRate  SpindleSpeed  \\\n",
      "count       21940.000000  21940.000000  21940.000000  21940.000000   \n",
      "mean            0.039107     85.174878    607.645138   1828.052735   \n",
      "std             0.193853     33.112375   3269.363502   2594.748294   \n",
      "min             0.000000      0.000000 -32590.000000      0.000000   \n",
      "25%             0.000000     84.000000      0.000000      0.000000   \n",
      "50%             0.000000    100.000000      0.000000      0.000000   \n",
      "75%             0.000000    100.000000    310.000000   4599.000000   \n",
      "max             1.000000    150.000000  32732.000000  10046.000000   \n",
      "\n",
      "         IndoorGPSx    IndoorGPSy         Phase  Phase_compressed  \\\n",
      "count  21940.000000  21940.000000  21940.000000      21940.000000   \n",
      "mean      -0.483395      1.451060     17.743345          3.920875   \n",
      "std        0.288393      0.948068      5.162617          1.554349   \n",
      "min       -1.416000     -1.103000      1.000000          1.000000   \n",
      "25%       -0.702000      0.622000     13.000000          2.000000   \n",
      "50%       -0.486000      1.510000     21.000000          5.000000   \n",
      "75%       -0.270000      1.914000     21.000000          5.000000   \n",
      "max        0.220000      5.104000     23.000000          6.000000   \n",
      "\n",
      "         Production  \n",
      "count  21940.000000  \n",
      "mean       0.534549  \n",
      "std        0.498816  \n",
      "min        0.000000  \n",
      "25%        0.000000  \n",
      "50%        1.000000  \n",
      "75%        1.000000  \n",
      "max        1.000000  \n"
     ]
    }
   ],
   "source": [
    "print(data.describe())"
   ]
  },
  {
   "cell_type": "markdown",
   "metadata": {},
   "source": [
    "# Removing unnecessary columns\n",
    "\n",
    "We need to ensure that our data contains entries useful for binary classification only. Everything else has to be discarded.\n"
   ]
  },
  {
   "cell_type": "code",
   "execution_count": 10,
   "metadata": {},
   "outputs": [
    {
     "name": "stdout",
     "output_type": "stream",
     "text": [
      "       ProgramStatus  ToolNumber  PocketTable  DriveStatus  DoorStatusTooling  \\\n",
      "0                2.0         0.0          0.0          1.0                0.0   \n",
      "11271            2.0         0.0          0.0          1.0                0.0   \n",
      "1                2.0         0.0          0.0          1.0                0.0   \n",
      "11272            2.0         0.0          0.0          1.0                0.0   \n",
      "2                2.0         0.0          0.0          1.0                0.0   \n",
      "...              ...         ...          ...          ...                ...   \n",
      "2253             2.0         3.0          3.0          1.0                0.0   \n",
      "2254             2.0         3.0          3.0          1.0                0.0   \n",
      "2255             2.0         3.0          3.0          1.0                0.0   \n",
      "2256             2.0         3.0          3.0          1.0                0.0   \n",
      "2257             2.0         3.0          3.0          1.0                0.0   \n",
      "\n",
      "       OverrideFeed  FeedRate  SpindleSpeed  Production  \n",
      "0              45.0    3600.0        1999.0           0  \n",
      "11271          45.0    3600.0        1999.0           0  \n",
      "1              45.0    3600.0        1999.0           0  \n",
      "11272          45.0    3600.0        2000.0           0  \n",
      "2              45.0    3600.0        1999.0           0  \n",
      "...             ...       ...           ...         ...  \n",
      "2253          100.0    2245.0        9998.0           1  \n",
      "2254          100.0     238.0       10000.0           1  \n",
      "2255          100.0    2806.0       10000.0           1  \n",
      "2256          100.0     516.0       10000.0           1  \n",
      "2257          100.0     242.0       10000.0           1  \n",
      "\n",
      "[21940 rows x 9 columns]\n"
     ]
    }
   ],
   "source": [
    "# Dropping the columns we do not need\n",
    "df = data.copy()\n",
    "df.pop('DateTime')\n",
    "df.pop('Phase')\n",
    "df.pop('Phase_compressed')\n",
    "df.pop('IndoorGPSx')\n",
    "df.pop('IndoorGPSy')\n",
    "print(df)"
   ]
  },
  {
   "cell_type": "markdown",
   "metadata": {},
   "source": [
    "# Data description\n"
   ]
  },
  {
   "cell_type": "code",
   "execution_count": 11,
   "metadata": {},
   "outputs": [
    {
     "data": {
      "text/html": [
       "<div>\n",
       "<style scoped>\n",
       "    .dataframe tbody tr th:only-of-type {\n",
       "        vertical-align: middle;\n",
       "    }\n",
       "\n",
       "    .dataframe tbody tr th {\n",
       "        vertical-align: top;\n",
       "    }\n",
       "\n",
       "    .dataframe thead th {\n",
       "        text-align: right;\n",
       "    }\n",
       "</style>\n",
       "<table border=\"1\" class=\"dataframe\">\n",
       "  <thead>\n",
       "    <tr style=\"text-align: right;\">\n",
       "      <th></th>\n",
       "      <th>ProgramStatus</th>\n",
       "      <th>ToolNumber</th>\n",
       "      <th>PocketTable</th>\n",
       "      <th>DriveStatus</th>\n",
       "      <th>DoorStatusTooling</th>\n",
       "      <th>OverrideFeed</th>\n",
       "      <th>FeedRate</th>\n",
       "      <th>SpindleSpeed</th>\n",
       "      <th>Production</th>\n",
       "    </tr>\n",
       "  </thead>\n",
       "  <tbody>\n",
       "    <tr>\n",
       "      <th>count</th>\n",
       "      <td>21940.000000</td>\n",
       "      <td>21940.000000</td>\n",
       "      <td>21940.000000</td>\n",
       "      <td>21940.000000</td>\n",
       "      <td>21940.000000</td>\n",
       "      <td>21940.000000</td>\n",
       "      <td>21940.000000</td>\n",
       "      <td>21940.000000</td>\n",
       "      <td>21940.000000</td>\n",
       "    </tr>\n",
       "    <tr>\n",
       "      <th>mean</th>\n",
       "      <td>1.439107</td>\n",
       "      <td>11.023473</td>\n",
       "      <td>4.698952</td>\n",
       "      <td>0.541796</td>\n",
       "      <td>0.039107</td>\n",
       "      <td>85.174878</td>\n",
       "      <td>607.645138</td>\n",
       "      <td>1828.052735</td>\n",
       "      <td>0.534549</td>\n",
       "    </tr>\n",
       "    <tr>\n",
       "      <th>std</th>\n",
       "      <td>1.634662</td>\n",
       "      <td>8.434492</td>\n",
       "      <td>7.231461</td>\n",
       "      <td>0.498261</td>\n",
       "      <td>0.193853</td>\n",
       "      <td>33.112375</td>\n",
       "      <td>3269.363502</td>\n",
       "      <td>2594.748294</td>\n",
       "      <td>0.498816</td>\n",
       "    </tr>\n",
       "    <tr>\n",
       "      <th>min</th>\n",
       "      <td>0.000000</td>\n",
       "      <td>0.000000</td>\n",
       "      <td>0.000000</td>\n",
       "      <td>0.000000</td>\n",
       "      <td>0.000000</td>\n",
       "      <td>0.000000</td>\n",
       "      <td>-32590.000000</td>\n",
       "      <td>0.000000</td>\n",
       "      <td>0.000000</td>\n",
       "    </tr>\n",
       "    <tr>\n",
       "      <th>25%</th>\n",
       "      <td>0.000000</td>\n",
       "      <td>8.000000</td>\n",
       "      <td>0.000000</td>\n",
       "      <td>0.000000</td>\n",
       "      <td>0.000000</td>\n",
       "      <td>84.000000</td>\n",
       "      <td>0.000000</td>\n",
       "      <td>0.000000</td>\n",
       "      <td>0.000000</td>\n",
       "    </tr>\n",
       "    <tr>\n",
       "      <th>50%</th>\n",
       "      <td>2.000000</td>\n",
       "      <td>8.000000</td>\n",
       "      <td>1.000000</td>\n",
       "      <td>1.000000</td>\n",
       "      <td>0.000000</td>\n",
       "      <td>100.000000</td>\n",
       "      <td>0.000000</td>\n",
       "      <td>0.000000</td>\n",
       "      <td>1.000000</td>\n",
       "    </tr>\n",
       "    <tr>\n",
       "      <th>75%</th>\n",
       "      <td>2.000000</td>\n",
       "      <td>19.000000</td>\n",
       "      <td>8.000000</td>\n",
       "      <td>1.000000</td>\n",
       "      <td>0.000000</td>\n",
       "      <td>100.000000</td>\n",
       "      <td>310.000000</td>\n",
       "      <td>4599.000000</td>\n",
       "      <td>1.000000</td>\n",
       "    </tr>\n",
       "    <tr>\n",
       "      <th>max</th>\n",
       "      <td>6.000000</td>\n",
       "      <td>32.000000</td>\n",
       "      <td>30.000000</td>\n",
       "      <td>1.000000</td>\n",
       "      <td>1.000000</td>\n",
       "      <td>150.000000</td>\n",
       "      <td>32732.000000</td>\n",
       "      <td>10046.000000</td>\n",
       "      <td>1.000000</td>\n",
       "    </tr>\n",
       "  </tbody>\n",
       "</table>\n",
       "</div>"
      ],
      "text/plain": [
       "       ProgramStatus    ToolNumber   PocketTable   DriveStatus  \\\n",
       "count   21940.000000  21940.000000  21940.000000  21940.000000   \n",
       "mean        1.439107     11.023473      4.698952      0.541796   \n",
       "std         1.634662      8.434492      7.231461      0.498261   \n",
       "min         0.000000      0.000000      0.000000      0.000000   \n",
       "25%         0.000000      8.000000      0.000000      0.000000   \n",
       "50%         2.000000      8.000000      1.000000      1.000000   \n",
       "75%         2.000000     19.000000      8.000000      1.000000   \n",
       "max         6.000000     32.000000     30.000000      1.000000   \n",
       "\n",
       "       DoorStatusTooling  OverrideFeed      FeedRate  SpindleSpeed  \\\n",
       "count       21940.000000  21940.000000  21940.000000  21940.000000   \n",
       "mean            0.039107     85.174878    607.645138   1828.052735   \n",
       "std             0.193853     33.112375   3269.363502   2594.748294   \n",
       "min             0.000000      0.000000 -32590.000000      0.000000   \n",
       "25%             0.000000     84.000000      0.000000      0.000000   \n",
       "50%             0.000000    100.000000      0.000000      0.000000   \n",
       "75%             0.000000    100.000000    310.000000   4599.000000   \n",
       "max             1.000000    150.000000  32732.000000  10046.000000   \n",
       "\n",
       "         Production  \n",
       "count  21940.000000  \n",
       "mean       0.534549  \n",
       "std        0.498816  \n",
       "min        0.000000  \n",
       "25%        0.000000  \n",
       "50%        1.000000  \n",
       "75%        1.000000  \n",
       "max        1.000000  "
      ]
     },
     "execution_count": 11,
     "metadata": {},
     "output_type": "execute_result"
    }
   ],
   "source": [
    "# Using the describe function to get 'raw' insights\n",
    "df.describe()"
   ]
  },
  {
   "cell_type": "code",
   "execution_count": 12,
   "metadata": {},
   "outputs": [
    {
     "data": {
      "text/plain": [
       "Text(0.5, 1.0, 'Correlation Heatmap')"
      ]
     },
     "execution_count": 12,
     "metadata": {},
     "output_type": "execute_result"
    },
    {
     "data": {
      "image/png": "[encoded data removed]",
      "text/plain": [
       "<Figure size 1152x432 with 2 Axes>"
      ]
     },
     "metadata": {
      "needs_background": "light"
     },
     "output_type": "display_data"
    }
   ],
   "source": [
    "# Correlation heatmap\n",
    "plt.figure(figsize=(16, 6))\n",
    "heatmap = sns.heatmap(df.corr(), vmin=-1, vmax=1, annot=True, fmt='.2%')\n",
    "heatmap.set_title('Correlation Heatmap', fontdict={'fontsize':12}, pad=12)\n"
   ]
  },
  {
   "cell_type": "markdown",
   "metadata": {},
   "source": [
    "# Data preparation\n"
   ]
  },
  {
   "cell_type": "code",
   "execution_count": 18,
   "metadata": {},
   "outputs": [
    {
     "name": "stdout",
     "output_type": "stream",
     "text": [
      "Training labels shape: (17552,)\n",
      "Test labels shape: (4388,)\n",
      "Training features shape: (17552, 8)\n",
      "Test features shape: (4388, 8)\n"
     ]
    }
   ],
   "source": [
    "# Splitting the data into training and test sets\n",
    "train_df, test_df = train_test_split(df, test_size=0.2, random_state=0)\n",
    "\n",
    "# Using numpy to create arrays of lables and features\n",
    "train_labels = np.array(train_df['Production'])\n",
    "test_labels = np.array(test_df['Production'])\n",
    "train_features = np.array(train_df.iloc[:, 0:8])\n",
    "test_features = np.array(test_df.iloc[:, 0:8])\n",
    "\n",
    "# Scaling the features using Standard Scaler\n",
    "scaler = StandardScaler()\n",
    "train_features = scaler.fit_transform(train_features)\n",
    "test_features = scaler.transform(test_features)\n",
    "\n",
    "# Having a look at the results\n",
    "print('Training labels shape:', train_labels.shape)\n",
    "print('Test labels shape:', test_labels.shape)\n",
    "print('Training features shape:', train_features.shape)\n",
    "print('Test features shape:', test_features.shape)"
   ]
  },
  {
   "cell_type": "code",
   "execution_count": 19,
   "metadata": {},
   "outputs": [
    {
     "data": {
      "text/plain": [
       "array([0, 1, 1, ..., 1, 1, 1])"
      ]
     },
     "execution_count": 19,
     "metadata": {},
     "output_type": "execute_result"
    }
   ],
   "source": [
    "train_labels"
   ]
  },
  {
   "cell_type": "markdown",
   "metadata": {},
   "source": [
    "# Random Forest\n",
    "\n",
    "Parameters didn't change after tuning"
   ]
  },
  {
   "cell_type": "code",
   "execution_count": 20,
   "metadata": {},
   "outputs": [],
   "source": [
    "# Create a Random Forest classifier object\n",
    "clf_RF = RandomForestClassifier(random_state=0)\n",
    "\n",
    "# Train the Random Forest Classifier\n",
    "clf_RF = clf_RF.fit(train_features, train_labels)\n",
    "\n",
    "# Predict the response for the test dataset\n",
    "y_pred_RF = clf_RF.predict(test_features)"
   ]
  },
  {
   "cell_type": "code",
   "execution_count": 21,
   "metadata": {},
   "outputs": [
    {
     "name": "stdout",
     "output_type": "stream",
     "text": [
      "              precision    recall  f1-score   support\n",
      "\n",
      "           0       0.99      0.98      0.99      2101\n",
      "           1       0.98      0.99      0.99      2287\n",
      "\n",
      "    accuracy                           0.99      4388\n",
      "   macro avg       0.99      0.99      0.99      4388\n",
      "weighted avg       0.99      0.99      0.99      4388\n",
      "\n"
     ]
    }
   ],
   "source": [
    "# Get the metrics for the Random Tree\n",
    "print(classification_report(test_labels,y_pred_RF))"
   ]
  },
  {
   "cell_type": "code",
   "execution_count": 22,
   "metadata": {},
   "outputs": [
    {
     "data": {
      "text/plain": [
       "0.986524249942548"
      ]
     },
     "execution_count": 22,
     "metadata": {},
     "output_type": "execute_result"
    }
   ],
   "source": [
    "# Get macro average F1 score\n",
    "f1_RF = f1_score(test_labels, y_pred_RF, average='macro')\n",
    "f1_RF"
   ]
  },
  {
   "cell_type": "code",
   "execution_count": 23,
   "metadata": {},
   "outputs": [
    {
     "data": {
      "text/plain": [
       "0.9730938914394992"
      ]
     },
     "execution_count": 23,
     "metadata": {},
     "output_type": "execute_result"
    }
   ],
   "source": [
    "# Calculate Matthews Correlation coefficient\n",
    "MCC_RF = matthews_corrcoef(test_labels, y_pred_RF)\n",
    "MCC_RF"
   ]
  },
  {
   "cell_type": "code",
   "execution_count": 24,
   "metadata": {},
   "outputs": [
    {
     "data": {
      "image/png": "[encoded data removed]",
      "text/plain": [
       "<Figure size 432x288 with 2 Axes>"
      ]
     },
     "metadata": {
      "needs_background": "light"
     },
     "output_type": "display_data"
    }
   ],
   "source": [
    "# Plot the confusion matrix for the Random Forest\n",
    "cm=confusion_matrix(test_labels,y_pred_RF,labels=[0,1])\n",
    "disp=ConfusionMatrixDisplay(confusion_matrix=cm, display_labels=[0,1])\n",
    "disp.plot();"
   ]
  },
  {
   "cell_type": "code",
   "execution_count": 25,
   "metadata": {},
   "outputs": [
    {
     "data": {
      "image/png": "[encoded data removed]",
      "text/plain": [
       "<Figure size 432x288 with 1 Axes>"
      ]
     },
     "metadata": {
      "needs_background": "light"
     },
     "output_type": "display_data"
    },
    {
     "name": "stdout",
     "output_type": "stream",
     "text": [
      "AUC score: 0.9863268100413174\n"
     ]
    }
   ],
   "source": [
    "# Plot the ROC curve and get the AUC score for the Random Forest\n",
    "plot_roc_curve(clf_RF)"
   ]
  },
  {
   "cell_type": "markdown",
   "metadata": {},
   "source": [
    "# Extra trees\n",
    "\n",
    "Parameters didn't change after tuning\n"
   ]
  },
  {
   "cell_type": "code",
   "execution_count": 26,
   "metadata": {},
   "outputs": [],
   "source": [
    "# Create an Extra Trees classifier object\n",
    "clf_ET = ExtraTreesClassifier(n_jobs=-1,random_state=0)\n",
    "\n",
    "# Train Extra Trees Classifier\n",
    "clf_ET = clf_ET.fit(train_features,train_labels)\n",
    "\n",
    "# Predict the response for the test dataset\n",
    "y_pred_ET = clf_ET.predict(test_features)"
   ]
  },
  {
   "cell_type": "code",
   "execution_count": 27,
   "metadata": {},
   "outputs": [
    {
     "name": "stdout",
     "output_type": "stream",
     "text": [
      "              precision    recall  f1-score   support\n",
      "\n",
      "           0       0.99      0.98      0.99      2101\n",
      "           1       0.98      0.99      0.99      2287\n",
      "\n",
      "    accuracy                           0.99      4388\n",
      "   macro avg       0.99      0.99      0.99      4388\n",
      "weighted avg       0.99      0.99      0.99      4388\n",
      "\n"
     ]
    }
   ],
   "source": [
    "# Get the metrics for the Extra Trees\n",
    "print(classification_report(test_labels,y_pred_ET))"
   ]
  },
  {
   "cell_type": "code",
   "execution_count": 28,
   "metadata": {},
   "outputs": [
    {
     "data": {
      "text/plain": [
       "0.9858405495234139"
      ]
     },
     "execution_count": 28,
     "metadata": {},
     "output_type": "execute_result"
    }
   ],
   "source": [
    "# Get macro average F1 score\n",
    "f1_ET = f1_score(test_labels, y_pred_ET, average='macro')\n",
    "f1_ET"
   ]
  },
  {
   "cell_type": "code",
   "execution_count": 29,
   "metadata": {},
   "outputs": [
    {
     "data": {
      "text/plain": [
       "0.9717074246700562"
      ]
     },
     "execution_count": 29,
     "metadata": {},
     "output_type": "execute_result"
    }
   ],
   "source": [
    "# Calculate Matthews Correlation coefficient\n",
    "MCC_ET = matthews_corrcoef(test_labels, y_pred_ET)\n",
    "MCC_ET"
   ]
  },
  {
   "cell_type": "code",
   "execution_count": 30,
   "metadata": {},
   "outputs": [
    {
     "data": {
      "image/png": "[encoded data removed]",
      "text/plain": [
       "<Figure size 432x288 with 2 Axes>"
      ]
     },
     "metadata": {
      "needs_background": "light"
     },
     "output_type": "display_data"
    }
   ],
   "source": [
    "# Plot the confusion matrix for the Extra Trees\n",
    "cm=confusion_matrix(test_labels,y_pred_ET,labels=[0,1])\n",
    "disp=ConfusionMatrixDisplay(confusion_matrix=cm, display_labels=[0,1])\n",
    "disp.plot();"
   ]
  },
  {
   "cell_type": "code",
   "execution_count": 31,
   "metadata": {},
   "outputs": [
    {
     "data": {
      "image/png": "[encoded data removed]",
      "text/plain": [
       "<Figure size 432x288 with 1 Axes>"
      ]
     },
     "metadata": {
      "needs_background": "light"
     },
     "output_type": "display_data"
    },
    {
     "name": "stdout",
     "output_type": "stream",
     "text": [
      "AUC score: 0.9856902838654922\n"
     ]
    }
   ],
   "source": [
    "# Plot the ROC curve and get the AUC score for the Extra Trees\n",
    "plot_roc_curve(clf_ET)"
   ]
  },
  {
   "cell_type": "markdown",
   "metadata": {},
   "source": [
    "# Cat Boost"
   ]
  },
  {
   "cell_type": "code",
   "execution_count": 32,
   "metadata": {},
   "outputs": [
    {
     "data": {
      "text/plain": [
       "<catboost.core.CatBoostClassifier at 0x7fac4ac49730>"
      ]
     },
     "execution_count": 32,
     "metadata": {},
     "output_type": "execute_result"
    }
   ],
   "source": [
    "# Create an CatBoost classifier object\n",
    "clf_cat = CatBoostClassifier(iterations=260, depth=9, loss_function='Logloss', random_seed=0, \n",
    "                             random_strength=0.7,eta=0.3, sampling_frequency='PerTree')\n",
    "# Train CatBoost Classifier\n",
    "clf_cat.fit(train_features, train_labels, verbose=False)"
   ]
  },
  {
   "cell_type": "code",
   "execution_count": 33,
   "metadata": {},
   "outputs": [
    {
     "data": {
      "text/plain": [
       "array([1, 1, 1, ..., 1, 1, 0])"
      ]
     },
     "execution_count": 33,
     "metadata": {},
     "output_type": "execute_result"
    }
   ],
   "source": [
    "# Predict the response for the test dataset\n",
    "y_pred_cat = clf_cat.predict(test_features)\n",
    "y_pred_cat"
   ]
  },
  {
   "cell_type": "code",
   "execution_count": 34,
   "metadata": {},
   "outputs": [
    {
     "name": "stdout",
     "output_type": "stream",
     "text": [
      "              precision    recall  f1-score   support\n",
      "\n",
      "           0       0.99      0.98      0.99      2101\n",
      "           1       0.98      0.99      0.99      2287\n",
      "\n",
      "    accuracy                           0.99      4388\n",
      "   macro avg       0.99      0.99      0.99      4388\n",
      "weighted avg       0.99      0.99      0.99      4388\n",
      "\n"
     ]
    }
   ],
   "source": [
    "# Get the metrics for the CatBoost\n",
    "print(classification_report(test_labels,y_pred_cat))"
   ]
  },
  {
   "cell_type": "code",
   "execution_count": 35,
   "metadata": {},
   "outputs": [
    {
     "data": {
      "text/plain": [
       "0.9869799218876522"
      ]
     },
     "execution_count": 35,
     "metadata": {},
     "output_type": "execute_result"
    }
   ],
   "source": [
    "# Get macro average F1 score\n",
    "f1_CAT= f1_score(test_labels, y_pred_cat, average='macro')\n",
    "f1_CAT"
   ]
  },
  {
   "cell_type": "code",
   "execution_count": 36,
   "metadata": {},
   "outputs": [
    {
     "data": {
      "text/plain": [
       "0.9740242157422483"
      ]
     },
     "execution_count": 36,
     "metadata": {},
     "output_type": "execute_result"
    }
   ],
   "source": [
    "# Calculate Matthews Correlation coefficient\n",
    "MCC_CAT = matthews_corrcoef(test_labels, y_pred_cat)\n",
    "MCC_CAT"
   ]
  },
  {
   "cell_type": "code",
   "execution_count": 37,
   "metadata": {},
   "outputs": [
    {
     "data": {
      "image/png": "[encoded data removed]",
      "text/plain": [
       "<Figure size 432x288 with 2 Axes>"
      ]
     },
     "metadata": {
      "needs_background": "light"
     },
     "output_type": "display_data"
    }
   ],
   "source": [
    "# Plot the confusion matrix for CatBoost\n",
    "cm=confusion_matrix(test_labels,y_pred_cat,labels=[0,1])\n",
    "disp=ConfusionMatrixDisplay(confusion_matrix=cm, display_labels=[0,1])\n",
    "disp.plot();"
   ]
  },
  {
   "cell_type": "code",
   "execution_count": 38,
   "metadata": {},
   "outputs": [
    {
     "data": {
      "image/png": "[encoded data removed]",
      "text/plain": [
       "<Figure size 432x288 with 1 Axes>"
      ]
     },
     "metadata": {
      "needs_background": "light"
     },
     "output_type": "display_data"
    },
    {
     "name": "stdout",
     "output_type": "stream",
     "text": [
      "AUC score: 0.9867447091948428\n"
     ]
    }
   ],
   "source": [
    "# Plot the ROC curve and get the AUC score for CatBoost\n",
    "plot_roc_curve(clf_cat)"
   ]
  },
  {
   "cell_type": "markdown",
   "metadata": {},
   "source": [
    "# LightGBM \n",
    "\n",
    "Parameter didn't change after tuning"
   ]
  },
  {
   "cell_type": "code",
   "execution_count": 39,
   "metadata": {},
   "outputs": [
    {
     "name": "stdout",
     "output_type": "stream",
     "text": [
      "[LightGBM] [Info] Number of positive: 9441, number of negative: 8111\n",
      "[LightGBM] [Info] Auto-choosing row-wise multi-threading, the overhead of testing was 0.000449 seconds.\n",
      "You can set `force_row_wise=true` to remove the overhead.\n",
      "And if memory is not enough, you can set `force_col_wise=true`.\n",
      "[LightGBM] [Info] Total Bins 441\n",
      "[LightGBM] [Info] Number of data points in the train set: 17552, number of used features: 8\n",
      "[LightGBM] [Info] [binary:BoostFromScore]: pavg=0.537887 -> initscore=0.151841\n",
      "[LightGBM] [Info] Start training from score 0.151841\n"
     ]
    },
    {
     "data": {
      "text/plain": [
       "LGBMClassifier(random_state=0)"
      ]
     },
     "execution_count": 39,
     "metadata": {},
     "output_type": "execute_result"
    }
   ],
   "source": [
    "# Create an LightGBM classifier object\n",
    "clf_gbm=lgb.LGBMClassifier(random_state=0)\n",
    "\n",
    "# Train LightGBM Classifier\n",
    "clf_gbm.fit(train_features,train_labels)"
   ]
  },
  {
   "cell_type": "code",
   "execution_count": 40,
   "metadata": {},
   "outputs": [
    {
     "data": {
      "text/plain": [
       "array([1, 1, 1, ..., 1, 1, 0])"
      ]
     },
     "execution_count": 40,
     "metadata": {},
     "output_type": "execute_result"
    }
   ],
   "source": [
    "# Predict the response for the test dataset\n",
    "y_pred_gbm = clf_gbm.predict(test_features)\n",
    "y_pred_gbm"
   ]
  },
  {
   "cell_type": "code",
   "execution_count": 41,
   "metadata": {},
   "outputs": [
    {
     "name": "stdout",
     "output_type": "stream",
     "text": [
      "              precision    recall  f1-score   support\n",
      "\n",
      "           0       0.99      0.98      0.99      2101\n",
      "           1       0.98      0.99      0.99      2287\n",
      "\n",
      "    accuracy                           0.99      4388\n",
      "   macro avg       0.99      0.99      0.99      4388\n",
      "weighted avg       0.99      0.99      0.99      4388\n",
      "\n"
     ]
    }
   ],
   "source": [
    "# Get the metrics for the LightGBM\n",
    "print(classification_report(test_labels,y_pred_gbm))"
   ]
  },
  {
   "cell_type": "code",
   "execution_count": 42,
   "metadata": {},
   "outputs": [
    {
     "data": {
      "text/plain": [
       "0.9878930771363164"
      ]
     },
     "execution_count": 42,
     "metadata": {},
     "output_type": "execute_result"
    }
   ],
   "source": [
    "# Get macro average F1 score\n",
    "f1_GBM = f1_score(test_labels, y_pred_gbm, average='macro')\n",
    "f1_GBM"
   ]
  },
  {
   "cell_type": "code",
   "execution_count": 43,
   "metadata": {},
   "outputs": [
    {
     "data": {
      "text/plain": [
       "0.9758613143701285"
      ]
     },
     "execution_count": 43,
     "metadata": {},
     "output_type": "execute_result"
    }
   ],
   "source": [
    "# Calculate Matthews Correlation coefficient\n",
    "MCC_GBM = matthews_corrcoef(test_labels, y_pred_gbm)\n",
    "MCC_GBM"
   ]
  },
  {
   "cell_type": "code",
   "execution_count": 44,
   "metadata": {},
   "outputs": [
    {
     "data": {
      "image/png": "[encoded data removed]",
      "text/plain": [
       "<Figure size 432x288 with 2 Axes>"
      ]
     },
     "metadata": {
      "needs_background": "light"
     },
     "output_type": "display_data"
    }
   ],
   "source": [
    "# Plot the confusion matrix for LightGBM\n",
    "cm=confusion_matrix(test_labels,y_pred_gbm,labels=[0,1])\n",
    "disp=ConfusionMatrixDisplay(confusion_matrix=cm, display_labels=[0,1])\n",
    "disp.plot();"
   ]
  },
  {
   "cell_type": "code",
   "execution_count": 45,
   "metadata": {},
   "outputs": [
    {
     "data": {
      "image/png": "[encoded data removed]",
      "text/plain": [
       "<Figure size 432x288 with 1 Axes>"
      ]
     },
     "metadata": {
      "needs_background": "light"
     },
     "output_type": "display_data"
    },
    {
     "name": "stdout",
     "output_type": "stream",
     "text": [
      "AUC score: 0.9876385721751171\n"
     ]
    }
   ],
   "source": [
    "# Plot the ROC curve and get the AUC score for LightGBM\n",
    "plot_roc_curve(clf_gbm)"
   ]
  },
  {
   "cell_type": "markdown",
   "metadata": {},
   "source": [
    "## Extreme Gradient Boost\n"
   ]
  },
  {
   "cell_type": "code",
   "execution_count": 46,
   "metadata": {},
   "outputs": [],
   "source": [
    "# Create an XGBoost classifier object\n",
    "clf_xgb=xgb.XGBClassifier(objective='binary:logistic',colsample_bytree=0.7, learning_rate=0.4, max_depth=9, n_estimators=170, reg_alpha=0.005,\n",
    "                          scale_pos_weight=3.3, subsample=0.9, random_state=0, verbosity=0);\n",
    "\n",
    "# Train XGBoost Classifier\n",
    "clf_xgb.fit(train_features,train_labels);"
   ]
  },
  {
   "cell_type": "code",
   "execution_count": 47,
   "metadata": {},
   "outputs": [
    {
     "data": {
      "text/plain": [
       "array([1, 1, 1, ..., 1, 1, 0])"
      ]
     },
     "execution_count": 47,
     "metadata": {},
     "output_type": "execute_result"
    }
   ],
   "source": [
    "# Predict the response for the test dataset\n",
    "y_pred_xgb = clf_xgb.predict(test_features)\n",
    "y_pred_xgb"
   ]
  },
  {
   "cell_type": "code",
   "execution_count": 48,
   "metadata": {},
   "outputs": [
    {
     "name": "stdout",
     "output_type": "stream",
     "text": [
      "              precision    recall  f1-score   support\n",
      "\n",
      "           0       1.00      0.98      0.99      2101\n",
      "           1       0.98      1.00      0.99      2287\n",
      "\n",
      "    accuracy                           0.99      4388\n",
      "   macro avg       0.99      0.99      0.99      4388\n",
      "weighted avg       0.99      0.99      0.99      4388\n",
      "\n"
     ]
    }
   ],
   "source": [
    "# Get the metrics for the XGBoost\n",
    "print(classification_report(test_labels,y_pred_xgb))"
   ]
  },
  {
   "cell_type": "code",
   "execution_count": 49,
   "metadata": {},
   "outputs": [
    {
     "data": {
      "text/plain": [
       "0.9883488989040974"
      ]
     },
     "execution_count": 49,
     "metadata": {},
     "output_type": "execute_result"
    }
   ],
   "source": [
    "# Get macro average F1 score\n",
    "f1_XGB = f1_score(test_labels, y_pred_xgb, average='macro')\n",
    "f1_XGB"
   ]
  },
  {
   "cell_type": "code",
   "execution_count": 50,
   "metadata": {},
   "outputs": [
    {
     "data": {
      "text/plain": [
       "0.9767969418507171"
      ]
     },
     "execution_count": 50,
     "metadata": {},
     "output_type": "execute_result"
    }
   ],
   "source": [
    "# Calculate Matthews Correlation coefficient\n",
    "MCC_XGB = matthews_corrcoef(test_labels, y_pred_xgb)\n",
    "MCC_XGB"
   ]
  },
  {
   "cell_type": "code",
   "execution_count": 51,
   "metadata": {},
   "outputs": [
    {
     "data": {
      "image/png": "[encoded data removed]",
      "text/plain": [
       "<Figure size 432x288 with 2 Axes>"
      ]
     },
     "metadata": {
      "needs_background": "light"
     },
     "output_type": "display_data"
    }
   ],
   "source": [
    "# Plot the confusion matrix for XGBoost\n",
    "cm=confusion_matrix(test_labels,y_pred_xgb,labels=[0,1])\n",
    "disp=ConfusionMatrixDisplay(confusion_matrix=cm, display_labels=[0,1])\n",
    "disp.plot();"
   ]
  },
  {
   "cell_type": "code",
   "execution_count": 52,
   "metadata": {},
   "outputs": [
    {
     "data": {
      "image/png": "[encoded data removed]",
      "text/plain": [
       "<Figure size 432x288 with 1 Axes>"
      ]
     },
     "metadata": {
      "needs_background": "light"
     },
     "output_type": "display_data"
    },
    {
     "name": "stdout",
     "output_type": "stream",
     "text": [
      "AUC score: 0.9880564713286425\n"
     ]
    }
   ],
   "source": [
    "# Plot the ROC curve and get the AUC score for XGBoost\n",
    "plot_roc_curve(clf_xgb)"
   ]
  }
 ],
 "metadata": {
  "interpreter": {
   "hash": "ffe16161eec1dcdad78b77b0d7a1d179ba96f37233aa4c571b1f2b600a0e4afb"
  },
  "kernelspec": {
   "display_name": "Python 3 (ipykernel)",
   "language": "python",
   "name": "python3"
  },
  "language_info": {
   "codemirror_mode": {
    "name": "ipython",
    "version": 3
   },
   "file_extension": ".py",
   "mimetype": "text/x-python",
   "name": "python",
   "nbconvert_exporter": "python",
   "pygments_lexer": "ipython3",
   "version": "3.10.9"
  }
 },
 "nbformat": 4,
 "nbformat_minor": 4
}
